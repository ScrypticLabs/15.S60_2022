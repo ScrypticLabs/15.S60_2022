{
 "cells": [
  {
   "cell_type": "markdown",
   "metadata": {},
   "source": [
    "# Introduction to Julia\n",
    "\n",
    "_Author_: Kayla Cummings, Jan. 2022\n",
    "\n",
    "This notebook adapts/replicates content from the following:\n",
    "* 15.053 Recitation 2 materials, 2021 (KC), 2019 (2019 15.053 team)\n",
    "* 15.S60 Computing in Optimization and Statistics, [IAP 2021](https://github.com/adelarue/cos_2021/tree/main/6%2B7_julia_and_jump) (Irra Na, Lea Kapelevich) \n",
    "* 15.053 Julia/JuMP Tutorials, 2021 (Keyan Li)\n",
    "* 6.251 Recitation 2 materials, 2018 (Konstantina Mellou)\n",
    "\n",
    "Our goal today is to provide a sufficient foundation in the Julia language so that we can build and solve optimization models in Julia. This tutorial is by no means comprehensive. \n",
    "\n",
    "### Package/version requirements\n",
    "Be sure you have followed the Julia, JuMP, and Gurobi installation instructions provided in the README. We will provide support for:\n",
    "* Julia v1.7.1\n",
    "* JuMP v0.22\n",
    "* Gurobi v9.5.0"
   ]
  },
  {
   "cell_type": "markdown",
   "metadata": {},
   "source": [
    "# Why use Julia?\n",
    "\n",
    "TODO"
   ]
  },
  {
   "cell_type": "code",
   "execution_count": null,
   "metadata": {},
   "outputs": [],
   "source": []
  },
  {
   "cell_type": "markdown",
   "metadata": {},
   "source": [
    "# First of all... what is this thing? It's an IJulia Notebook!\n",
    "\n",
    "Repurposes Python's Jupyter notebook!\n",
    "\n",
    "_Click `Help -> User Interface Tour`_\n",
    "\n",
    "**Think of the notebook as a document that can interact with your computer.** The *document* relies only on a modern browser for rendering. When you connect the document to a Julia kernel and terminal instance on a computer, however, the document can send any command to the computer and show any output (text or graphics). \n",
    "\n",
    "* Each notebook is composed of cells\n",
    "* Two modes:\n",
    "    * Command Mode for creating or deleting cells, saving or renaming the notebook, and other application-level functions\n",
    "    * Edit Mode for manipulating text in individual cells\n",
    "* Create a cell by:\n",
    "    * Clicking `Insert >> Insert Cell`\n",
    "    * Pressing `a` or `b` in Command Mode (`a` = \"above\", `b` = \"below\")\n",
    "    * Pressing `Alt/Option+Enter` in Edit Mode\n",
    "* Delete a cell by:\n",
    "    * Clicking `Edit >> Delete Cell`\n",
    "    * Pressing `dd`\n",
    "* Execute a cell by:\n",
    "    * Clicking `Cell >> Run`\n",
    "    * Pressing `Ctrl+Enter`\n",
    "    * Pressing `Shift+Enter`\n",
    "\n",
    "Other functions:\n",
    "* Undo last text edit with `Ctrl+z` in Edit Mode\n",
    "* Undo last cell manipulation with `z` in Command Mode\n",
    "* Save notebook with `Ctrl+s` in Edit Mode\n",
    "* Save notebook with `s` in Command Mode\n",
    "\n",
    "Though notebooks rely on your browser to work, they do not require an internet connection. The only online tool that is consistently used is MathJax (for math rendering).\n",
    "\n",
    "\n"
   ]
  },
  {
   "cell_type": "markdown",
   "metadata": {},
   "source": [
    "### Get comfortable with the notebook\n",
    "Notebooks are designed to not be fragile. If you try to close a notebook with unsaved changes, the browser will warn you.\n",
    "\n",
    "Try the following exercises on your own time:\n",
    "\n",
    ">**\\[Exercise\\]**: Close/open\n",
    ">1. Save the notebook\n",
    ">2. Copy the address\n",
    ">3. Close the tab\n",
    ">4. Paste the address into a new tab (or re-open the last closed tab with `Ctrl+Shift+T` on Chrome)\n",
    ">_The document is still there, and the Julia kernel is still alive! Nothing is lost._\n",
    "\n",
    ">**\\[Exercise\\]**: Zoom\n",
    ">Try changing the magnification of the web page (`Ctrl+, Ctrl-` on Chrome).\n",
    ">_Text and math scale well (so do graphics if you use an SVG or PDF backend)._\n",
    "\n",
    ">**\\[Exercise\\]**: MathJax\n",
    ">1. Create a new cell, and select the type `Markdown` (or press `m`)\n",
    ">2. Type an opening \\\\$, your favorite mathematical expression, and a closing \\\\$.\n",
    ">3. Run the cell to render the $\\LaTeX$ expression.\n",
    ">4. Right-click the rendered expression."
   ]
  },
  {
   "cell_type": "markdown",
   "metadata": {},
   "source": [
    "# Useful packages (other than JuMP)\n",
    "\n",
    "* DataFrames and CSV - import and manipulate data\n",
    "* Plots - visualize!\n",
    "* LinearAlgebra - "
   ]
  },
  {
   "cell_type": "code",
   "execution_count": null,
   "metadata": {},
   "outputs": [],
   "source": []
  }
 ],
 "metadata": {
  "kernelspec": {
   "display_name": "Julia 1.7.1",
   "language": "julia",
   "name": "julia-1.7"
  },
  "language_info": {
   "file_extension": ".jl",
   "mimetype": "application/julia",
   "name": "julia",
   "version": "1.7.1"
  }
 },
 "nbformat": 4,
 "nbformat_minor": 2
}
